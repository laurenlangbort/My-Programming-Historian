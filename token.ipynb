{
 "cells": [
  {
   "cell_type": "markdown",
   "id": "ca43e33f",
   "metadata": {},
   "source": [
    "Tokenizing Text and Counting Word Frequencies"
   ]
  },
  {
   "cell_type": "markdown",
   "id": "93dd91b3",
   "metadata": {},
   "source": [
    "Lesson Goals\n",
    "\n"
   ]
  }
 ],
 "metadata": {
  "language_info": {
   "name": "python"
  }
 },
 "nbformat": 4,
 "nbformat_minor": 5
}
